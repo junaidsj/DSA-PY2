{
 "cells": [
  {
   "cell_type": "code",
   "execution_count": 20,
   "id": "96dee838-ef55-4271-af49-3bf0d2182ea0",
   "metadata": {},
   "outputs": [
    {
     "name": "stdout",
     "output_type": "stream",
     "text": [
      "8\n"
     ]
    }
   ],
   "source": [
    "head={\n",
    "    'value': 5,\n",
    "    'next': {\n",
    "        'value': 6,\n",
    "        'next': {\n",
    "            'value': 7,\n",
    "            'next': {\n",
    "                'value': 8,\n",
    "                'next': None\n",
    "            }\n",
    "        }\n",
    "    }\n",
    "}\n",
    "print(head['next']['next']['next']['value'])"
   ]
  },
  {
   "cell_type": "code",
   "execution_count": 25,
   "id": "b0b382ef-7bb7-4d91-abfd-f0895e8f44cb",
   "metadata": {},
   "outputs": [
    {
     "name": "stdout",
     "output_type": "stream",
     "text": [
      "4\n"
     ]
    }
   ],
   "source": [
    "class Node:\n",
    "    def __init__(self,value):\n",
    "        self.value=value\n",
    "        self.next=None\n",
    "class LinkedList:\n",
    "    def __init__(self,value):\n",
    "        new_node=Node(value)\n",
    "        self.head=new_node\n",
    "        self.tail=new_node\n",
    "        self.length=1\n",
    "my_linked_list=LinkedList(4)\n",
    "print(my_linked_list.head.value)"
   ]
  },
  {
   "cell_type": "code",
   "execution_count": 28,
   "id": "0455eaf6-b51c-41c3-9710-16008e5e87d0",
   "metadata": {},
   "outputs": [
    {
     "name": "stdout",
     "output_type": "stream",
     "text": [
      "9\n"
     ]
    }
   ],
   "source": [
    "class Node:\n",
    "    def __init__(self,value):\n",
    "        self.value=value\n",
    "        self.next=None\n",
    "class LinkedList:\n",
    "    def __init__(self,value):\n",
    "        new_node=Node(value)\n",
    "        self.head=new_node\n",
    "        self.tail=new_node\n",
    "        self.length=1\n",
    "my_linked_list=LinkedList(9)\n",
    "print(my_linked_list.tail.value)"
   ]
  },
  {
   "cell_type": "code",
   "execution_count": 37,
   "id": "d55b1f94-7587-4a5e-b1da-55b094ff80e3",
   "metadata": {},
   "outputs": [
    {
     "name": "stdout",
     "output_type": "stream",
     "text": [
      "6\n"
     ]
    }
   ],
   "source": [
    "class junaid:\n",
    "    def __init__(self,value):\n",
    "        self.value=value\n",
    "        self.next=None\n",
    "class LinkedList:\n",
    "    def __init__(self,value):\n",
    "        ahamed= junaid (value)\n",
    "        self.head= ahamed\n",
    "        self.tail= ahamed\n",
    "        self.length=1\n",
    "king=LinkedList(6)\n",
    "print(king.head.value)"
   ]
  },
  {
   "cell_type": "code",
   "execution_count": 87,
   "id": "3a14884e-b283-4ea5-a1e4-3eb2272ca274",
   "metadata": {},
   "outputs": [
    {
     "name": "stdout",
     "output_type": "stream",
     "text": [
      "1\n",
      "2\n"
     ]
    }
   ],
   "source": [
    "class Node:\n",
    "    def __init__(self,value):\n",
    "        self.value=value\n",
    "        self.next=None\n",
    "class LinkedList:\n",
    "     def __init__(self,value):\n",
    "        new_node=Node(value)\n",
    "        self.head=new_node\n",
    "        self.tail=new_node\n",
    "        self.length=1\n",
    "         \n",
    "     def print_list(self):\n",
    "        temp=self.head\n",
    "        while temp is not None:\n",
    "            print(temp.value)\n",
    "            temp=temp.next\n",
    "            \n",
    "            \n",
    "     def append(self,value):\n",
    "             new_node=Node(value)\n",
    "             if self.head is None:\n",
    "                 self.head=new_node\n",
    "                 self.tail=new_node\n",
    "             else:\n",
    "                 self.head.next=new_node\n",
    "                 self.tail=new_node\n",
    "                 self.length +=1\n",
    "my_linked_list=LinkedList(1)\n",
    "my_linked_list.append(2)\n",
    "my_linked_list.print_list()"
   ]
  },
  {
   "cell_type": "code",
   "execution_count": null,
   "id": "b5eb692b-d72d-4ec8-adf1-c660b9cdef75",
   "metadata": {},
   "outputs": [],
   "source": []
  }
 ],
 "metadata": {
  "kernelspec": {
   "display_name": "Python 3 (ipykernel)",
   "language": "python",
   "name": "python3"
  },
  "language_info": {
   "codemirror_mode": {
    "name": "ipython",
    "version": 3
   },
   "file_extension": ".py",
   "mimetype": "text/x-python",
   "name": "python",
   "nbconvert_exporter": "python",
   "pygments_lexer": "ipython3",
   "version": "3.12.7"
  }
 },
 "nbformat": 4,
 "nbformat_minor": 5
}
